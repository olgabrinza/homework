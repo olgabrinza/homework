{
 "cells": [
  {
   "cell_type": "markdown",
   "metadata": {},
   "source": [
    "# Реализация логистической регрессии в TensorFlow"
   ]
  },
  {
   "cell_type": "code",
   "execution_count": 1,
   "metadata": {},
   "outputs": [
    {
     "name": "stderr",
     "output_type": "stream",
     "text": [
      "C:\\ProgramData\\Anaconda3\\lib\\site-packages\\h5py\\__init__.py:36: FutureWarning: Conversion of the second argument of issubdtype from `float` to `np.floating` is deprecated. In future, it will be treated as `np.float64 == np.dtype(float).type`.\n",
      "  from ._conv import register_converters as _register_converters\n"
     ]
    }
   ],
   "source": [
    "import numpy as np\n",
    "import tensorflow as tf"
   ]
  },
  {
   "cell_type": "code",
   "execution_count": 2,
   "metadata": {
    "collapsed": true
   },
   "outputs": [],
   "source": [
    "%matplotlib inline\n",
    "from matplotlib import pyplot as plt"
   ]
  },
  {
   "cell_type": "markdown",
   "metadata": {},
   "source": [
    "## Генерируем данные для задачи регрессии"
   ]
  },
  {
   "cell_type": "code",
   "execution_count": 37,
   "metadata": {
    "collapsed": true
   },
   "outputs": [],
   "source": [
    "NUM_FEATURES = 2\n",
    "NUM_SAMPLES = 1000"
   ]
  },
  {
   "cell_type": "code",
   "execution_count": 38,
   "metadata": {},
   "outputs": [
    {
     "data": {
      "image/png": "[encoded data removed]",
      "text/plain": [
       "<matplotlib.figure.Figure at 0x2461ed9f240>"
      ]
     },
     "metadata": {},
     "output_type": "display_data"
    }
   ],
   "source": [
    "from sklearn.datasets import make_classification\n",
    "\n",
    "X, y = make_classification(n_samples = NUM_SAMPLES,\n",
    "                           n_features = NUM_FEATURES,\n",
    "                           n_informative = NUM_FEATURES,\n",
    "                           n_redundant = 0,\n",
    "                           n_classes = 2,\n",
    "                           n_clusters_per_class = 1,\n",
    "                           class_sep = 0.75,\n",
    "                           random_state = 54312)\n",
    "\n",
    "y = y.reshape(-1, 1)\n",
    "\n",
    "ones = np.where(y == 1)   # индексы объектов класса '1'\n",
    "zeros = np.where(y == 0)  # индексы объектов класса '0'\n",
    "\n",
    "plt.xlabel('x')\n",
    "plt.ylabel('y')\n",
    "plt.plot(X[ones, 0], X[ones, 1], 'ob',\n",
    "         X[zeros, 0], X[zeros, 1], 'or');"
   ]
  },
  {
   "cell_type": "markdown",
   "metadata": {},
   "source": [
    "## Вспомогательная функция для создания операций"
   ]
  },
  {
   "cell_type": "code",
   "execution_count": 39,
   "metadata": {
    "collapsed": true
   },
   "outputs": [],
   "source": [
    "import random\n",
    "import string\n",
    "\n",
    "def py_func_with_grad(func, inp, Tout, grad, name = None, stateful = False, graph = None):\n",
    "    \n",
    "    name_prefix = ''.join(random.choices(string.ascii_letters, k = 10))\n",
    "    \n",
    "    name = '%s_%s' % (name_prefix, name or '')\n",
    "    grad_func_name = '%s_grad' % name\n",
    "\n",
    "    tf.RegisterGradient(grad_func_name)(grad)\n",
    "\n",
    "    g = graph or tf.get_default_graph()\n",
    "    with g.gradient_override_map({'PyFunc': grad_func_name, \n",
    "                                  'PyFuncStateless': grad_func_name}):\n",
    "        with tf.name_scope(name, 'PyFuncOp', inp):\n",
    "            return tf.py_func(func, inp, Tout, stateful = stateful, name = name)"
   ]
  },
  {
   "cell_type": "markdown",
   "metadata": {},
   "source": [
    "## Реализация линейной опреаций"
   ]
  },
  {
   "cell_type": "code",
   "execution_count": 40,
   "metadata": {
    "collapsed": true
   },
   "outputs": [],
   "source": [
    "def linear_op_forward(X, W):\n",
    "    ''' Реализация линейной операции '''\n",
    "    return np.dot(X, W.T)  # аргументы являются numpy-массивами\n",
    "\n",
    "def linear_op_backward(op, grads):\n",
    "    ''' Реализация вычисления градиента линейной операции '''\n",
    "    X = op.inputs[0]  # тензор входных данных\n",
    "    W = op.inputs[1]  # тензор параметров модели\n",
    "    dX = tf.multiply(grads, W)\n",
    "    dW = tf.reduce_sum(tf.multiply(X, grads),\n",
    "                       axis = 0,\n",
    "                       keep_dims = True)\n",
    "    return dX, dW\n",
    "\n",
    "def sigmoid_op_forward(X):\n",
    "    sigmoid_forw = 1 / (1 + np.exp(-X))\n",
    "    return sigmoid_forw\n",
    "    # TODO: реализовать операцию sigmoid\n",
    "    #return np.zeros_like(X)\n",
    "\n",
    "def sigmoid_op_backward(op, grads):\n",
    "    sigmoid = op.outputs[0] * (1 - op.outputs[0]) * grads\n",
    "    return sigmoid\n",
    "    # TODO: реализовать вычисление градиента для sigmoid\n",
    "    #return tf.zeros([1, 1])\n",
    "    "
   ]
  },
  {
   "cell_type": "code",
   "execution_count": 41,
   "metadata": {
    "scrolled": true
   },
   "outputs": [
    {
     "name": "stdout",
     "output_type": "stream",
     "text": [
      "[000] loss=0.762 weights=[[0.4021026  0.18156385]]\n",
      "[010] loss=0.711 weights=[[ 0.15564111 -0.6007613 ]]\n",
      "[020] loss=0.690 weights=[[ 0.04205957 -1.1923776 ]]\n",
      "[030] loss=0.607 weights=[[ 0.03828054 -1.6087166 ]]\n",
      "[040] loss=0.640 weights=[[ 0.04615114 -1.9361383 ]]\n",
      "[050] loss=0.576 weights=[[ 0.07675273 -2.2073956 ]]\n",
      "[060] loss=0.638 weights=[[ 0.09119307 -2.4349313 ]]\n",
      "[070] loss=0.558 weights=[[ 0.1206516 -2.6329703]]\n",
      "[080] loss=0.592 weights=[[ 0.1388943 -2.8059402]]\n",
      "[090] loss=0.562 weights=[[ 0.16250716 -2.9622962 ]]\n",
      "[100] loss=0.600 weights=[[ 0.17605469 -3.1020508 ]]\n",
      "[110] loss=0.589 weights=[[ 0.18873595 -3.2357254 ]]\n",
      "[120] loss=0.537 weights=[[ 0.20939912 -3.3498628 ]]\n",
      "[130] loss=0.553 weights=[[ 0.21532063 -3.4619975 ]]\n",
      "[140] loss=0.576 weights=[[ 0.23188375 -3.5639944 ]]\n",
      "[150] loss=0.528 weights=[[ 0.24122189 -3.6603158 ]]\n",
      "[160] loss=0.598 weights=[[ 0.24995436 -3.749992  ]]\n",
      "[170] loss=0.538 weights=[[ 0.2542732 -3.8369677]]\n",
      "[180] loss=0.508 weights=[[ 0.2641958 -3.9194093]]\n",
      "[190] loss=0.607 weights=[[ 0.26743647 -3.996032  ]]\n",
      "[200] loss=0.565 weights=[[ 0.27311963 -4.071716  ]]\n",
      "[210] loss=0.574 weights=[[ 0.27400017 -4.1426673 ]]\n",
      "[220] loss=0.544 weights=[[ 0.28117377 -4.2117286 ]]\n",
      "[230] loss=0.561 weights=[[ 0.29201195 -4.274959  ]]\n",
      "[240] loss=0.558 weights=[[ 0.29222238 -4.3394976 ]]\n",
      "[250] loss=0.516 weights=[[ 0.29896265 -4.398736  ]]\n",
      "[260] loss=0.536 weights=[[ 0.29994068 -4.457591  ]]\n",
      "[270] loss=0.593 weights=[[ 0.29826415 -4.5140085 ]]\n",
      "[280] loss=0.594 weights=[[ 0.30096802 -4.571349  ]]\n",
      "[290] loss=0.546 weights=[[ 0.30936733 -4.621449  ]]\n",
      "[300] loss=0.561 weights=[[ 0.30699173 -4.6736155 ]]\n",
      "[310] loss=0.549 weights=[[ 0.31227714 -4.72372   ]]\n",
      "[320] loss=0.613 weights=[[ 0.3127025 -4.7694864]]\n",
      "[330] loss=0.488 weights=[[ 0.31918627 -4.8193026 ]]\n",
      "[340] loss=0.547 weights=[[ 0.31733835 -4.8639526 ]]\n",
      "[350] loss=0.560 weights=[[ 0.31966555 -4.9099236 ]]\n",
      "[360] loss=0.642 weights=[[ 0.31795382 -4.952387  ]]\n",
      "[370] loss=0.558 weights=[[ 0.32220402 -4.994725  ]]\n",
      "[380] loss=0.543 weights=[[ 0.32499477 -5.035241  ]]\n",
      "[390] loss=0.584 weights=[[ 0.32429597 -5.0764947 ]]\n",
      "[400] loss=0.518 weights=[[ 0.32791427 -5.115999  ]]\n",
      "[410] loss=0.543 weights=[[ 0.32649118 -5.156637  ]]\n",
      "[420] loss=0.544 weights=[[ 0.33061045 -5.1934896 ]]\n",
      "[430] loss=0.579 weights=[[ 0.32695735 -5.232634  ]]\n",
      "[440] loss=0.560 weights=[[ 0.33032373 -5.26875   ]]\n",
      "[450] loss=0.558 weights=[[ 0.3323378 -5.3047633]]\n",
      "[460] loss=0.595 weights=[[ 0.3301458 -5.338617 ]]\n",
      "[470] loss=0.588 weights=[[ 0.33129513 -5.3737516 ]]\n",
      "[480] loss=0.533 weights=[[ 0.3320197 -5.407811 ]]\n",
      "[490] loss=0.543 weights=[[ 0.33432472 -5.4407277 ]]\n",
      "[500] loss=0.522 weights=[[ 0.33337897 -5.47362   ]]\n",
      "[510] loss=0.598 weights=[[ 0.3312888 -5.5057287]]\n",
      "[520] loss=0.561 weights=[[ 0.33077592 -5.5381446 ]]\n",
      "[530] loss=0.550 weights=[[ 0.33214098 -5.5677915 ]]\n",
      "[540] loss=0.547 weights=[[ 0.3340122 -5.5985155]]\n",
      "[550] loss=0.617 weights=[[ 0.3310834 -5.629559 ]]\n",
      "[560] loss=0.576 weights=[[ 0.33244127 -5.659143  ]]\n",
      "[570] loss=0.546 weights=[[ 0.33372352 -5.6879425 ]]\n",
      "[580] loss=0.565 weights=[[ 0.330219 -5.718294]]\n",
      "[590] loss=0.618 weights=[[ 0.33300927 -5.74352   ]]\n",
      "[600] loss=0.554 weights=[[ 0.3335378 -5.7742605]]\n",
      "[610] loss=0.534 weights=[[ 0.3337845 -5.800855 ]]\n",
      "[620] loss=0.570 weights=[[ 0.33315325 -5.8273892 ]]\n",
      "[630] loss=0.592 weights=[[ 0.33080205 -5.854401  ]]\n",
      "[640] loss=0.582 weights=[[ 0.32988542 -5.8823876 ]]\n",
      "[650] loss=0.565 weights=[[ 0.32955214 -5.908043  ]]\n",
      "[660] loss=0.549 weights=[[ 0.33157855 -5.934747  ]]\n",
      "[670] loss=0.571 weights=[[ 0.3312347 -5.959013 ]]\n",
      "[680] loss=0.555 weights=[[ 0.33239838 -5.983572  ]]\n",
      "[690] loss=0.542 weights=[[ 0.33390662 -6.009529  ]]\n",
      "[700] loss=0.572 weights=[[ 0.33312535 -6.0339155 ]]\n",
      "[710] loss=0.512 weights=[[ 0.33340853 -6.0569863 ]]\n",
      "[720] loss=0.548 weights=[[ 0.3339654 -6.080466 ]]\n",
      "[730] loss=0.511 weights=[[ 0.3343709 -6.104795 ]]\n",
      "[740] loss=0.535 weights=[[ 0.332608 -6.128394]]\n",
      "[750] loss=0.564 weights=[[ 0.33083057 -6.151757  ]]\n",
      "[760] loss=0.564 weights=[[ 0.33139715 -6.173874  ]]\n",
      "[770] loss=0.504 weights=[[ 0.33242163 -6.1968193 ]]\n",
      "[780] loss=0.587 weights=[[ 0.3287197 -6.219742 ]]\n",
      "[790] loss=0.569 weights=[[ 0.3292288 -6.241887 ]]\n",
      "[800] loss=0.540 weights=[[ 0.32987326 -6.2629485 ]]\n",
      "[810] loss=0.533 weights=[[ 0.3284351 -6.28491  ]]\n",
      "[820] loss=0.546 weights=[[ 0.32758632 -6.3064528 ]]\n",
      "[830] loss=0.586 weights=[[ 0.32987067 -6.3266935 ]]\n",
      "[840] loss=0.576 weights=[[ 0.3273076 -6.348063 ]]\n",
      "[850] loss=0.584 weights=[[ 0.32809228 -6.370086  ]]\n",
      "[860] loss=0.558 weights=[[ 0.3298552 -6.3902435]]\n",
      "[870] loss=0.551 weights=[[ 0.3286726 -6.409229 ]]\n",
      "[880] loss=0.562 weights=[[ 0.32651258 -6.430173  ]]\n",
      "[890] loss=0.592 weights=[[ 0.32724002 -6.4498334 ]]\n",
      "[900] loss=0.594 weights=[[ 0.32538667 -6.4699607 ]]\n",
      "[910] loss=0.579 weights=[[ 0.32715073 -6.4904604 ]]\n",
      "[920] loss=0.545 weights=[[ 0.32447088 -6.509978  ]]\n",
      "[930] loss=0.552 weights=[[ 0.3256667 -6.5278883]]\n",
      "[940] loss=0.560 weights=[[ 0.32587975 -6.547347  ]]\n",
      "[950] loss=0.532 weights=[[ 0.32729602 -6.5667505 ]]\n",
      "[960] loss=0.593 weights=[[ 0.32233387 -6.5850706 ]]\n",
      "[970] loss=0.581 weights=[[ 0.32116407 -6.604027  ]]\n",
      "[980] loss=0.536 weights=[[ 0.32407993 -6.622232  ]]\n",
      "[990] loss=0.535 weights=[[ 0.32381824 -6.640547  ]]\n"
     ]
    }
   ],
   "source": [
    "BATCH_SIZE = NUM_SAMPLES // 10\n",
    "\n",
    "weights = None  # в этой переменной мы сохраним результат обучения модели\n",
    "learning_curve = []  # значения ошибки на каждой итерации обучения\n",
    "\n",
    "with tf.Session(graph = tf.Graph()) as sess:  # инициализируем сессию вычислений\n",
    "    \n",
    "    # создаем placeholdr'ы, через них мы будем\n",
    "    # передавать внешние данные в граф вычислений\n",
    "    plh_X = tf.placeholder(dtype = tf.float32, shape = [None, NUM_FEATURES])\n",
    "    plh_labels = tf.placeholder(dtype = tf.float32, shape = [None, 1])\n",
    "\n",
    "    # создаем переменную для хранения весов модели\n",
    "    # эти веса будут изменяться в процессе обучения\n",
    "    var_W = tf.Variable(tf.random_uniform(shape = [1, NUM_FEATURES],\n",
    "                                          dtype = tf.float32,\n",
    "                                          seed = 54321))\n",
    "    \n",
    "    # создаем переменную для результата предсказания модели\n",
    "    var_Pred = py_func_with_grad(linear_op_forward,         # функция предсказания модели \n",
    "                                 [plh_X, var_W],            # аргументы функции\n",
    "                                 [tf.float32],              # тип выходных значений\n",
    "                                 name = 'linear_op',        # имя операции \n",
    "                                 grad = linear_op_backward, # функция для вычисления градиента\n",
    "                                 graph = sess.graph)        # объект графа вчислений\n",
    "    \n",
    "    # создаем переменную для результата операции sigmoid\n",
    "    var_Sigmoid = py_func_with_grad(sigmoid_op_forward,\n",
    "                                    [var_Pred],\n",
    "                                    [tf.float32],\n",
    "                                    name = 'sigmoid_op',\n",
    "                                    grad = sigmoid_op_backward,\n",
    "                                    graph = sess.graph)\n",
    "    \n",
    "    # кроссэнтропийная функция потерь для бмнарной классификации\n",
    "    cost = tf.losses.sigmoid_cross_entropy(plh_labels, var_Sigmoid)\n",
    "    \n",
    "    # инициализируем оптимизатор и указываем скорость обучения\n",
    "    optimizer = tf.train.GradientDescentOptimizer(learning_rate = 0.9).minimize(cost)\n",
    "\n",
    "    # инициализируем placeholder'ы и переменные\n",
    "    sess.run(tf.global_variables_initializer())\n",
    "    \n",
    "    indices = np.arange(len(X))  # массив индексов объектов\n",
    "    \n",
    "    # выполняем итерации по 10-ти эпохам\n",
    "    for epoch in range(100):\n",
    "        \n",
    "        # вначале каждой эпохи перемешиваем индексы\n",
    "        np.random.shuffle(indices)\n",
    "        \n",
    "        # внутри каждой эпохи данные разбиваются на батчи\n",
    "        for batch in range(len(X) // BATCH_SIZE):\n",
    "            \n",
    "            # выбираем индексы очередного батча\n",
    "            batch_indices = indices[batch * BATCH_SIZE:(batch + 1) * BATCH_SIZE]\n",
    "\n",
    "            # выполняем шаг обучения: вычисляем ошибку и обновляем веса\n",
    "            loss, _ = sess.run([cost, optimizer],  # указываем, какие операции необходимо выполнить\n",
    "                               feed_dict = {plh_X: X[batch_indices],  # передаем входные данные для вычисления\n",
    "                                            plh_labels: y[batch_indices]})\n",
    "        \n",
    "            # сохраняем занчения ошибки для построения кривой обучения\n",
    "            learning_curve.append(loss)\n",
    "            \n",
    "            # выводим текущее значение ошибки для каждого 10го шага\n",
    "            steps = len(learning_curve) - 1\n",
    "            if steps % 10 == 0:\n",
    "                print('[%03d] loss=%.3f weights=%s' % (steps, loss, var_W.eval()))\n",
    "    \n",
    "    # сохраняем обученные веса\n",
    "    weights = var_W.eval()"
   ]
  },
  {
   "cell_type": "markdown",
   "metadata": {},
   "source": [
    "## Создание графа вычислений и обучение модели"
   ]
  },
  {
   "cell_type": "markdown",
   "metadata": {},
   "source": [
    "## Визуализируем кривую обучения"
   ]
  },
  {
   "cell_type": "code",
   "execution_count": 42,
   "metadata": {},
   "outputs": [
    {
     "data": {
      "image/png": "[encoded data removed]",
      "text/plain": [
       "<matplotlib.figure.Figure at 0x24621f88470>"
      ]
     },
     "metadata": {},
     "output_type": "display_data"
    }
   ],
   "source": [
    "plt.xlabel('step')\n",
    "plt.ylabel('loss')\n",
    "plt.title('Learning curve')\n",
    "plt.plot(learning_curve);"
   ]
  },
  {
   "cell_type": "markdown",
   "metadata": {},
   "source": [
    "## Визуализируем разделяющую гиперплоскость"
   ]
  },
  {
   "cell_type": "code",
   "execution_count": 43,
   "metadata": {},
   "outputs": [
    {
     "data": {
      "image/png": "[encoded data removed]",
      "text/plain": [
       "<matplotlib.figure.Figure at 0x24623ebb240>"
      ]
     },
     "metadata": {},
     "output_type": "display_data"
    }
   ],
   "source": [
    "y_pred = - X[:, 0] * weights[0, 0] / weights[0, 1]\n",
    "\n",
    "order = np.argsort(X[:, 0])\n",
    "\n",
    "plt.xlabel('x')\n",
    "plt.ylabel('y')\n",
    "plt.plot(X[ones, 0], X[ones, 1], 'ob',\n",
    "         X[zeros, 0], X[zeros, 1], 'or',\n",
    "         X[order, 0], y_pred[order], '-g');"
   ]
  },
  {
   "cell_type": "code",
   "execution_count": null,
   "metadata": {
    "collapsed": true
   },
   "outputs": [],
   "source": []
  }
 ],
 "metadata": {
  "kernelspec": {
   "display_name": "Python 3",
   "language": "python",
   "name": "python3"
  },
  "language_info": {
   "codemirror_mode": {
    "name": "ipython",
    "version": 3
   },
   "file_extension": ".py",
   "mimetype": "text/x-python",
   "name": "python",
   "nbconvert_exporter": "python",
   "pygments_lexer": "ipython3",
   "version": "3.6.1"
  }
 },
 "nbformat": 4,
 "nbformat_minor": 2
}
