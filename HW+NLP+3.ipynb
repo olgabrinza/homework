{
 "cells": [
  {
   "cell_type": "code",
   "execution_count": 137,
   "metadata": {},
   "outputs": [],
   "source": [
    "from lxml import html\n",
    "import requests\n",
    "import pymorphy2\n"
   ]
  },
  {
   "cell_type": "code",
   "execution_count": 138,
   "metadata": {
    "collapsed": true
   },
   "outputs": [],
   "source": [
    "url = 'https://www.gismeteo.ru/weather-moscow-4368'"
   ]
  },
  {
   "cell_type": "code",
   "execution_count": 139,
   "metadata": {},
   "outputs": [],
   "source": [
    "headers = {'User-Agent': 'Mozilla/5.0 (Windows NT 10.0; Win64; x64) AppleWebKit/537.36 (KHTML, like Gecko) Chrome/63.0.3239.84 Safari/537.36'}"
   ]
  },
  {
   "cell_type": "code",
   "execution_count": 140,
   "metadata": {},
   "outputs": [],
   "source": [
    "r = requests.get(url, headers = headers)"
   ]
  },
  {
   "cell_type": "code",
   "execution_count": 141,
   "metadata": {},
   "outputs": [],
   "source": [
    "tree = html.fromstring(r.content)"
   ]
  },
  {
   "cell_type": "code",
   "execution_count": 142,
   "metadata": {},
   "outputs": [],
   "source": [
    "temperature = tree.xpath('.//span[@class = \"js_value tab-weather__value_l\"]/text()')[0].strip()"
   ]
  },
  {
   "cell_type": "code",
   "execution_count": 143,
   "metadata": {},
   "outputs": [],
   "source": [
    "wind = tree.xpath('.//div[@class =\"w_wind__warning w_wind__warning_\"]/text()')[0].strip()"
   ]
  },
  {
   "cell_type": "code",
   "execution_count": 144,
   "metadata": {
    "collapsed": true
   },
   "outputs": [],
   "source": [
    "precipitation = tree.xpath('.//div[@class =\"w_precipitation__value\"]/text()')[0].strip()"
   ]
  },
  {
   "cell_type": "code",
   "execution_count": 149,
   "metadata": {},
   "outputs": [],
   "source": [
    "import pymorphy2\n",
    "morph = pymorphy2.MorphAnalyzer()\n",
    "dgr = morph.parse('градус')[0]\n",
    "dgr = dgr.make_agree_with_number(int(temperature)).word\n",
    "m = morph.parse('метр')[0]\n",
    "m = m.make_agree_with_number(int(wind)).word\n",
    "mm = morph.parse('миллиметр')[0]\n",
    "mm = mm.make_agree_with_number(int(wind)).word"
   ]
  },
  {
   "cell_type": "code",
   "execution_count": 150,
   "metadata": {},
   "outputs": [
    {
     "name": "stdout",
     "output_type": "stream",
     "text": [
      "Сейчас температура воздуха в Москве +3 градуса. Скорость ветра составляет 3 метра в секунду. Уровень осадков  равен  0,2 миллиметра.\n"
     ]
    }
   ],
   "source": [
    "text = 'Сейчас температура воздуха в Москве %s %s. Скорость ветра составляет %s %s в секунду. Уровень осадков  равен  %s %s.'% (temperature, dgr, wind, m, precipitation, mm)\n",
    "print (text)"
   ]
  },
  {
   "cell_type": "code",
   "execution_count": null,
   "metadata": {
    "collapsed": true
   },
   "outputs": [],
   "source": []
  }
 ],
 "metadata": {
  "kernelspec": {
   "display_name": "Python 3",
   "language": "python",
   "name": "python3"
  },
  "language_info": {
   "codemirror_mode": {
    "name": "ipython",
    "version": 3
   },
   "file_extension": ".py",
   "mimetype": "text/x-python",
   "name": "python",
   "nbconvert_exporter": "python",
   "pygments_lexer": "ipython3",
   "version": "3.6.1"
  }
 },
 "nbformat": 4,
 "nbformat_minor": 2
}
