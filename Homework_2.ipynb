{
 "cells": [
  {
   "cell_type": "code",
   "execution_count": 75,
   "metadata": {
    "scrolled": true
   },
   "outputs": [
    {
     "data": {
      "text/html": [
       "<div>\n",
       "<style>\n",
       "    .dataframe thead tr:only-child th {\n",
       "        text-align: right;\n",
       "    }\n",
       "\n",
       "    .dataframe thead th {\n",
       "        text-align: left;\n",
       "    }\n",
       "\n",
       "    .dataframe tbody tr th {\n",
       "        vertical-align: top;\n",
       "    }\n",
       "</style>\n",
       "<table border=\"1\" class=\"dataframe\">\n",
       "  <thead>\n",
       "    <tr style=\"text-align: right;\">\n",
       "      <th></th>\n",
       "      <th>index</th>\n",
       "      <th>height_inches</th>\n",
       "      <th>weight_pounds</th>\n",
       "      <th>height</th>\n",
       "      <th>weight</th>\n",
       "    </tr>\n",
       "  </thead>\n",
       "  <tbody>\n",
       "    <tr>\n",
       "      <th>0</th>\n",
       "      <td>1</td>\n",
       "      <td>65.78331</td>\n",
       "      <td>112.9925</td>\n",
       "      <td>167.089607</td>\n",
       "      <td>61.015950</td>\n",
       "    </tr>\n",
       "    <tr>\n",
       "      <th>1</th>\n",
       "      <td>2</td>\n",
       "      <td>71.51521</td>\n",
       "      <td>136.4873</td>\n",
       "      <td>181.648633</td>\n",
       "      <td>73.703142</td>\n",
       "    </tr>\n",
       "    <tr>\n",
       "      <th>2</th>\n",
       "      <td>3</td>\n",
       "      <td>69.39874</td>\n",
       "      <td>153.0269</td>\n",
       "      <td>176.272800</td>\n",
       "      <td>82.634526</td>\n",
       "    </tr>\n",
       "    <tr>\n",
       "      <th>3</th>\n",
       "      <td>4</td>\n",
       "      <td>68.21660</td>\n",
       "      <td>142.3354</td>\n",
       "      <td>173.270164</td>\n",
       "      <td>76.861116</td>\n",
       "    </tr>\n",
       "    <tr>\n",
       "      <th>4</th>\n",
       "      <td>5</td>\n",
       "      <td>67.78781</td>\n",
       "      <td>144.2971</td>\n",
       "      <td>172.181037</td>\n",
       "      <td>77.920434</td>\n",
       "    </tr>\n",
       "  </tbody>\n",
       "</table>\n",
       "</div>"
      ],
      "text/plain": [
       "   index  height_inches  weight_pounds      height     weight\n",
       "0      1       65.78331       112.9925  167.089607  61.015950\n",
       "1      2       71.51521       136.4873  181.648633  73.703142\n",
       "2      3       69.39874       153.0269  176.272800  82.634526\n",
       "3      4       68.21660       142.3354  173.270164  76.861116\n",
       "4      5       67.78781       144.2971  172.181037  77.920434"
      ]
     },
     "execution_count": 75,
     "metadata": {},
     "output_type": "execute_result"
    }
   ],
   "source": [
    "from scipy import stats\n",
    "import pandas as pd\n",
    "import numpy as np\n",
    "import matplotlib.pyplot as plt\n",
    "data = pd.read_csv( 'hw_25000.csv', names = ['index', 'height_inches', 'weight_pounds'], header = 0 )\n",
    "# пересчитываем рост в см, вес - в кг\n",
    "data['height'] = data['height_inches'] * 2.54\n",
    "data['weight'] = data['weight_pounds'] * 0.54\n",
    "data.head()"
   ]
  },
  {
   "cell_type": "code",
   "execution_count": 76,
   "metadata": {
    "scrolled": true
   },
   "outputs": [
    {
     "data": {
      "image/png": "[encoded data removed]",
      "text/plain": [
       "<matplotlib.figure.Figure at 0x2f893c54f98>"
      ]
     },
     "metadata": {},
     "output_type": "display_data"
    }
   ],
   "source": [
    "plt.hist( data['weight'], bins = 50 )\n",
    "plt.show()"
   ]
  },
  {
   "cell_type": "code",
   "execution_count": 77,
   "metadata": {},
   "outputs": [
    {
     "data": {
      "image/png": "[encoded data removed]",
      "text/plain": [
       "<matplotlib.figure.Figure at 0x2f893c22208>"
      ]
     },
     "metadata": {},
     "output_type": "display_data"
    }
   ],
   "source": [
    "# проверим \"нормальность\"  распределения с помощью QQ-plot\n",
    "\n",
    "stats.probplot( data['weight'], dist=\"norm\", plot=plt )\n",
    "plt.show()"
   ]
  },
  {
   "cell_type": "code",
   "execution_count": 139,
   "metadata": {},
   "outputs": [
    {
     "data": {
      "text/html": [
       "<div>\n",
       "<style>\n",
       "    .dataframe thead tr:only-child th {\n",
       "        text-align: right;\n",
       "    }\n",
       "\n",
       "    .dataframe thead th {\n",
       "        text-align: left;\n",
       "    }\n",
       "\n",
       "    .dataframe tbody tr th {\n",
       "        vertical-align: top;\n",
       "    }\n",
       "</style>\n",
       "<table border=\"1\" class=\"dataframe\">\n",
       "  <thead>\n",
       "    <tr style=\"text-align: right;\">\n",
       "      <th></th>\n",
       "      <th>height_inches</th>\n",
       "      <th>weight_pounds</th>\n",
       "      <th>height</th>\n",
       "      <th>weight</th>\n",
       "    </tr>\n",
       "  </thead>\n",
       "  <tbody>\n",
       "    <tr>\n",
       "      <th>0</th>\n",
       "      <td>69.39874</td>\n",
       "      <td>153.0269</td>\n",
       "      <td>176.272800</td>\n",
       "      <td>82.634526</td>\n",
       "    </tr>\n",
       "    <tr>\n",
       "      <th>1</th>\n",
       "      <td>68.21660</td>\n",
       "      <td>142.3354</td>\n",
       "      <td>173.270164</td>\n",
       "      <td>76.861116</td>\n",
       "    </tr>\n",
       "    <tr>\n",
       "      <th>2</th>\n",
       "      <td>67.78781</td>\n",
       "      <td>144.2971</td>\n",
       "      <td>172.181037</td>\n",
       "      <td>77.920434</td>\n",
       "    </tr>\n",
       "    <tr>\n",
       "      <th>3</th>\n",
       "      <td>68.69784</td>\n",
       "      <td>123.3024</td>\n",
       "      <td>174.492514</td>\n",
       "      <td>66.583296</td>\n",
       "    </tr>\n",
       "    <tr>\n",
       "      <th>4</th>\n",
       "      <td>69.80204</td>\n",
       "      <td>141.4947</td>\n",
       "      <td>177.297182</td>\n",
       "      <td>76.407138</td>\n",
       "    </tr>\n",
       "    <tr>\n",
       "      <th>5</th>\n",
       "      <td>70.01472</td>\n",
       "      <td>136.4623</td>\n",
       "      <td>177.837389</td>\n",
       "      <td>73.689642</td>\n",
       "    </tr>\n",
       "    <tr>\n",
       "      <th>6</th>\n",
       "      <td>67.90265</td>\n",
       "      <td>112.3723</td>\n",
       "      <td>172.472731</td>\n",
       "      <td>60.681042</td>\n",
       "    </tr>\n",
       "    <tr>\n",
       "      <th>7</th>\n",
       "      <td>67.62333</td>\n",
       "      <td>114.1430</td>\n",
       "      <td>171.763258</td>\n",
       "      <td>61.637220</td>\n",
       "    </tr>\n",
       "    <tr>\n",
       "      <th>8</th>\n",
       "      <td>68.30248</td>\n",
       "      <td>125.6107</td>\n",
       "      <td>173.488299</td>\n",
       "      <td>67.829778</td>\n",
       "    </tr>\n",
       "    <tr>\n",
       "      <th>9</th>\n",
       "      <td>67.11656</td>\n",
       "      <td>122.4618</td>\n",
       "      <td>170.476062</td>\n",
       "      <td>66.129372</td>\n",
       "    </tr>\n",
       "    <tr>\n",
       "      <th>10</th>\n",
       "      <td>68.27967</td>\n",
       "      <td>116.0866</td>\n",
       "      <td>173.430362</td>\n",
       "      <td>62.686764</td>\n",
       "    </tr>\n",
       "    <tr>\n",
       "      <th>11</th>\n",
       "      <td>68.64927</td>\n",
       "      <td>142.9733</td>\n",
       "      <td>174.369146</td>\n",
       "      <td>77.205582</td>\n",
       "    </tr>\n",
       "    <tr>\n",
       "      <th>12</th>\n",
       "      <td>67.13118</td>\n",
       "      <td>124.0449</td>\n",
       "      <td>170.513197</td>\n",
       "      <td>66.984246</td>\n",
       "    </tr>\n",
       "    <tr>\n",
       "      <th>13</th>\n",
       "      <td>67.83379</td>\n",
       "      <td>141.2807</td>\n",
       "      <td>172.297827</td>\n",
       "      <td>76.291578</td>\n",
       "    </tr>\n",
       "    <tr>\n",
       "      <th>14</th>\n",
       "      <td>68.87881</td>\n",
       "      <td>143.5392</td>\n",
       "      <td>174.952177</td>\n",
       "      <td>77.511168</td>\n",
       "    </tr>\n",
       "    <tr>\n",
       "      <th>15</th>\n",
       "      <td>68.42187</td>\n",
       "      <td>129.5027</td>\n",
       "      <td>173.791550</td>\n",
       "      <td>69.931458</td>\n",
       "    </tr>\n",
       "    <tr>\n",
       "      <th>16</th>\n",
       "      <td>67.62804</td>\n",
       "      <td>141.8501</td>\n",
       "      <td>171.775222</td>\n",
       "      <td>76.599054</td>\n",
       "    </tr>\n",
       "    <tr>\n",
       "      <th>17</th>\n",
       "      <td>67.20864</td>\n",
       "      <td>129.7244</td>\n",
       "      <td>170.709946</td>\n",
       "      <td>70.051176</td>\n",
       "    </tr>\n",
       "    <tr>\n",
       "      <th>18</th>\n",
       "      <td>70.84235</td>\n",
       "      <td>142.4235</td>\n",
       "      <td>179.939569</td>\n",
       "      <td>76.908690</td>\n",
       "    </tr>\n",
       "    <tr>\n",
       "      <th>19</th>\n",
       "      <td>67.49434</td>\n",
       "      <td>131.5502</td>\n",
       "      <td>171.435624</td>\n",
       "      <td>71.037108</td>\n",
       "    </tr>\n",
       "  </tbody>\n",
       "</table>\n",
       "</div>"
      ],
      "text/plain": [
       "    height_inches  weight_pounds      height     weight\n",
       "0        69.39874       153.0269  176.272800  82.634526\n",
       "1        68.21660       142.3354  173.270164  76.861116\n",
       "2        67.78781       144.2971  172.181037  77.920434\n",
       "3        68.69784       123.3024  174.492514  66.583296\n",
       "4        69.80204       141.4947  177.297182  76.407138\n",
       "5        70.01472       136.4623  177.837389  73.689642\n",
       "6        67.90265       112.3723  172.472731  60.681042\n",
       "7        67.62333       114.1430  171.763258  61.637220\n",
       "8        68.30248       125.6107  173.488299  67.829778\n",
       "9        67.11656       122.4618  170.476062  66.129372\n",
       "10       68.27967       116.0866  173.430362  62.686764\n",
       "11       68.64927       142.9733  174.369146  77.205582\n",
       "12       67.13118       124.0449  170.513197  66.984246\n",
       "13       67.83379       141.2807  172.297827  76.291578\n",
       "14       68.87881       143.5392  174.952177  77.511168\n",
       "15       68.42187       129.5027  173.791550  69.931458\n",
       "16       67.62804       141.8501  171.775222  76.599054\n",
       "17       67.20864       129.7244  170.709946  70.051176\n",
       "18       70.84235       142.4235  179.939569  76.908690\n",
       "19       67.49434       131.5502  171.435624  71.037108"
      ]
     },
     "execution_count": 139,
     "metadata": {},
     "output_type": "execute_result"
    }
   ],
   "source": [
    "# делаем подвыборку из генеральной совокупности, состоящую из 20 человек с ростом от 170 до 180 см\n",
    "# и выдвигаем гипотезу H0 о том, что между новой выборкой и генеральной совокупностью нет значимых различий\n",
    "# гипотеза H1, альтернативная - между новой выборкой и генеральной совокупностью есть значимые различия\n",
    "# уровень значимости alpha = 0,05\n",
    "\n",
    "morethan170 = data['height'] > 170\n",
    "lessthan180 = data['height'] < 180\n",
    "dataSelected1 = data[morethan170 & lessthan180]\n",
    "dataSelected1.reset_index(inplace=True)\n",
    "del dataSelected1['level_0']\n",
    "pd.DataFrame.reset_index\n",
    "del dataSelected1['index']\n",
    "dataSelected = dataSelected1.loc[:19]\n",
    "dataSelected\n"
   ]
  },
  {
   "cell_type": "code",
   "execution_count": 140,
   "metadata": {},
   "outputs": [
    {
     "data": {
      "text/plain": [
       "68.62288742683216"
      ]
     },
     "execution_count": 140,
     "metadata": {},
     "output_type": "execute_result"
    }
   ],
   "source": [
    "# считаем средние для генеральной совокупности и подвыборки \n",
    "data['weight'].mean()"
   ]
  },
  {
   "cell_type": "code",
   "execution_count": 141,
   "metadata": {},
   "outputs": [
    {
     "data": {
      "text/plain": [
       "71.7790194"
      ]
     },
     "execution_count": 141,
     "metadata": {},
     "output_type": "execute_result"
    }
   ],
   "source": [
    "dataSelected['weight'].mean()"
   ]
  },
  {
   "cell_type": "code",
   "execution_count": 142,
   "metadata": {},
   "outputs": [
    {
     "data": {
      "text/plain": [
       "Ttest_1sampResult(statistic=2.2438433326708793, pvalue=0.036952752151289438)"
      ]
     },
     "execution_count": 142,
     "metadata": {},
     "output_type": "execute_result"
    }
   ],
   "source": [
    "# используем одновыборочный критерий, так как мы сравниваем одну подвыборку с генерально совокупностью\n",
    "stats.ttest_1samp( dataSelected['weight'], data['weight'].mean())"
   ]
  },
  {
   "cell_type": "code",
   "execution_count": 143,
   "metadata": {},
   "outputs": [],
   "source": [
    "# поскольку р < 0,05, значение рассчитанного t-критерия превышает табличное для df=19,\n",
    "# (расчитано для двух зависимых выборок), Н0 отвергается, принимается Н1, различия статистически значимы"
   ]
  },
  {
   "cell_type": "code",
   "execution_count": null,
   "metadata": {
    "collapsed": true
   },
   "outputs": [],
   "source": []
  }
 ],
 "metadata": {
  "kernelspec": {
   "display_name": "Python 3",
   "language": "python",
   "name": "python3"
  }
 },
 "nbformat": 4,
 "nbformat_minor": 2
}
