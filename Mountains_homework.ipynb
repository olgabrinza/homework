{
 "cells": [
  {
   "cell_type": "code",
   "execution_count": 1,
   "metadata": {},
   "outputs": [
    {
     "data": {
      "text/plain": [
       "Parent mountain\n",
       "Cho Oyu          7\n",
       "Dhaulagiri       4\n",
       "Distaghil Sar    5\n",
       "Gasherbrum I     8\n",
       "K2               5\n",
       "Kangchenjunga    7\n",
       "Mount Everest    9\n",
       "Shisha Pangma    4\n",
       "Name: Mountain, dtype: int64"
      ]
     },
     "execution_count": 1,
     "metadata": {},
     "output_type": "execute_result"
    }
   ],
   "source": [
    "import pandas as pd\n",
    "import numpy as np\n",
    "data = pd.read_csv( 'Mountains.csv', delimiter = ',' )\n",
    "data.head(5)\n",
    "newtable = data.groupby('Parent mountain').filter (lambda x: len(x) > 3)\n",
    "newtable.groupby('Parent mountain')['Mountain'].count()"
   ]
  },
  {
   "cell_type": "code",
   "execution_count": null,
   "metadata": {
    "collapsed": true
   },
   "outputs": [],
   "source": []
  }
 ],
 "metadata": {
  "kernelspec": {
   "display_name": "Python 3",
   "language": "python",
   "name": "python3"
  },
  "language_info": {
   "codemirror_mode": {
    "name": "ipython",
    "version": 3
   },
   "file_extension": ".py",
   "mimetype": "text/x-python",
   "name": "python",
   "nbconvert_exporter": "python",
   "pygments_lexer": "ipython3",
   "version": "3.6.1"
  }
 },
 "nbformat": 4,
 "nbformat_minor": 2
}
